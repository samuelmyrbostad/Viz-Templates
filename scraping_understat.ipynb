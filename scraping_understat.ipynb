{
  "nbformat": 4,
  "nbformat_minor": 0,
  "metadata": {
    "colab": {
      "name": "scraping understat.ipynb",
      "provenance": [],
      "authorship_tag": "ABX9TyOWlUGzgIgElEZHHS003/bq",
      "include_colab_link": true
    },
    "kernelspec": {
      "name": "python3",
      "display_name": "Python 3"
    }
  },
  "cells": [
    {
      "cell_type": "markdown",
      "metadata": {
        "id": "view-in-github",
        "colab_type": "text"
      },
      "source": [
        "<a href=\"https://colab.research.google.com/github/samuelmyrbostad/Viz-Templates/blob/master/scraping_understat.ipynb\" target=\"_parent\"><img src=\"https://colab.research.google.com/assets/colab-badge.svg\" alt=\"Open In Colab\"/></a>"
      ]
    },
    {
      "cell_type": "code",
      "metadata": {
        "id": "3sQjcrHN2mtp"
      },
      "source": [
        "#importing modules and packages\r\n",
        "import requests\r\n",
        "from bs4 import BeautifulSoup\r\n",
        "import json\r\n",
        "import pandas as pd\r\n"
      ],
      "execution_count": 1,
      "outputs": []
    },
    {
      "cell_type": "code",
      "metadata": {
        "colab": {
          "base_uri": "https://localhost:8080/",
          "height": 52
        },
        "id": "yGej2yIk3EjV",
        "outputId": "d935dbaf-1226-4ca1-ff44-1160f762e484"
      },
      "source": [
        "#scrape the game\r\n",
        "base_url = 'https://understat.com/match/'\r\n",
        "match = str(input('Please enter the match id: '))\r\n",
        "url = base_url + match\r\n",
        "\r\n"
      ],
      "execution_count": 3,
      "outputs": [
        {
          "output_type": "stream",
          "text": [
            "Please enter the match id: 14684\n"
          ],
          "name": "stdout"
        },
        {
          "output_type": "execute_result",
          "data": {
            "application/vnd.google.colaboratory.intrinsic+json": {
              "type": "string"
            },
            "text/plain": [
              "'https://understat.com/match/14684'"
            ]
          },
          "metadata": {
            "tags": []
          },
          "execution_count": 3
        }
      ]
    },
    {
      "cell_type": "code",
      "metadata": {
        "colab": {
          "base_uri": "https://localhost:8080/",
          "height": 35
        },
        "id": "VDoR4U_d36WB",
        "outputId": "d594e92d-54a2-4726-d715-60a31b01bbf7"
      },
      "source": [
        "url"
      ],
      "execution_count": 4,
      "outputs": [
        {
          "output_type": "execute_result",
          "data": {
            "application/vnd.google.colaboratory.intrinsic+json": {
              "type": "string"
            },
            "text/plain": [
              "'https://understat.com/match/14684'"
            ]
          },
          "metadata": {
            "tags": []
          },
          "execution_count": 4
        }
      ]
    },
    {
      "cell_type": "code",
      "metadata": {
        "id": "Ugoo7_SX38ZJ"
      },
      "source": [
        "res = requests.get(url)\r\n",
        "soup = BeautifulSoup(res.content, 'lxml')\r\n",
        "scripts = soup.find_all('script')\r\n",
        "scripts\r\n"
      ],
      "execution_count": null,
      "outputs": []
    },
    {
      "cell_type": "code",
      "metadata": {
        "colab": {
          "base_uri": "https://localhost:8080/",
          "height": 120
        },
        "id": "3TKEsPPD4sEv",
        "outputId": "6803a1da-4f97-4bfb-d54a-27b391468b0d"
      },
      "source": [
        "#getting shots data, making it into string\r\n",
        "strings = scripts[1].string\r\n",
        "strings"
      ],
      "execution_count": 10,
      "outputs": [
        {
          "output_type": "execute_result",
          "data": {
            "application/vnd.google.colaboratory.intrinsic+json": {
              "type": "string"
            },
            "text/plain": [
              "\"\\n\\tvar shotsData \\t= JSON.parse('\\\\x7B\\\\x22h\\\\x22\\\\x3A\\\\x5B\\\\x7B\\\\x22id\\\\x22\\\\x3A\\\\x22405301\\\\x22,\\\\x22minute\\\\x22\\\\x3A\\\\x227\\\\x22,\\\\x22result\\\\x22\\\\x3A\\\\x22BlockedShot\\\\x22,\\\\x22X\\\\x22\\\\x3A\\\\x220.749000015258789\\\\x22,\\\\x22Y\\\\x22\\\\x3A\\\\x220.40400001525878904\\\\x22,\\\\x22xG\\\\x22\\\\x3A\\\\x220.02078883908689022\\\\x22,\\\\x22player\\\\x22\\\\x3A\\\\x22Adama\\\\x20Traor\\\\x5Cu00e9\\\\x22,\\\\x22h_a\\\\x22\\\\x3A\\\\x22h\\\\x22,\\\\x22player_id\\\\x22\\\\x3A\\\\x22900\\\\x22,\\\\x22situation\\\\x22\\\\x3A\\\\x22OpenPlay\\\\x22,\\\\x22season\\\\x22\\\\x3A\\\\x222020\\\\x22,\\\\x22shotType\\\\x22\\\\x3A\\\\x22LeftFoot\\\\x22,\\\\x22match_id\\\\x22\\\\x3A\\\\x2214684\\\\x22,\\\\x22h_team\\\\x22\\\\x3A\\\\x22Wolverhampton\\\\x20Wanderers\\\\x22,\\\\x22a_team\\\\x22\\\\x3A\\\\x22Leeds\\\\x22,\\\\x22h_goals\\\\x22\\\\x3A\\\\x221\\\\x22,\\\\x22a_goals\\\\x22\\\\x3A\\\\x220\\\\x22,\\\\x22date\\\\x22\\\\x3A\\\\x222021\\\\x2D02\\\\x2D19\\\\x2020\\\\x3A00\\\\x3A00\\\\x22,\\\\x22player_assisted\\\\x22\\\\x3A\\\\x22N\\\\x5Cu00e9lson\\\\x20Semedo\\\\x22,\\\\x22lastAction\\\\x22\\\\x3A\\\\x22Pass\\\\x22\\\\x7D,\\\\x7B\\\\x22id\\\\x22\\\\x3A\\\\x22405302\\\\x22,\\\\x22minute\\\\x22\\\\x3A\\\\x2210\\\\x22,\\\\x22result\\\\x22\\\\x3A\\\\x22SavedShot\\\\x22,\\\\x22X\\\\x22\\\\x3A\\\\x220.75\\\\x22,\\\\x22Y\\\\x22\\\\x3A\\\\x220.265\\\\x22,\\\\x22xG\\\\x22\\\\x3A\\\\x220.01285276748239994\\\\x22,\\\\x22player\\\\x22\\\\x3A\\\\x22N\\\\x5Cu00e9lson\\\\x20Semedo\\\\x22,\\\\x22h_a\\\\x22\\\\x3A\\\\x22h\\\\x22,\\\\x22player_id\\\\x22\\\\x3A\\\\x226163\\\\x22,\\\\x22situation\\\\x22\\\\x3A\\\\x22FromCorner\\\\x22,\\\\x22season\\\\x22\\\\x3A\\\\x222020\\\\x22,\\\\x22shotType\\\\x22\\\\x3A\\\\x22RightFoot\\\\x22,\\\\x22match_id\\\\x22\\\\x3A\\\\x2214684\\\\x22,\\\\x22h_team\\\\x22\\\\x3A\\\\x22Wolverhampton\\\\x20Wanderers\\\\x22,\\\\x22a_team\\\\x22\\\\x3A\\\\x22Leeds\\\\x22,\\\\x22h_goals\\\\x22\\\\x3A\\\\x221\\\\x22,\\\\x22a_goals\\\\x22\\\\x3A\\\\x220\\\\x22,\\\\x22date\\\\x22\\\\x3A\\\\x222021\\\\x2D02\\\\x2D19\\\\x2020\\\\x3A00\\\\x3A00\\\\x22,\\\\x22player_assisted\\\\x22\\\\x3Anull,\\\\x22lastAction\\\\x22\\\\x3A\\\\x22None\\\\x22\\\\x7D,\\\\x7B\\\\x22id\\\\x22\\\\x3A\\\\x22405303\\\\x22,\\\\x22minute\\\\x22\\\\x3A\\\\x2211\\\\x22,\\\\x22result\\\\x22\\\\x3A\\\\x22SavedShot\\\\x22,\\\\x22X\\\\x22\\\\x3A\\\\x220.7280000305175781\\\\x22,\\\\x22Y\\\\x22\\\\x3A\\\\x220.4520000076293945\\\\x22,\\\\x22xG\\\\x22\\\\x3A\\\\x220.016827892512083054\\\\x22,\\\\x22player\\\\x22\\\\x3A\\\\x22Pedro\\\\x20Neto\\\\x22,\\\\x22h_a\\\\x22\\\\x3A\\\\x22h\\\\x22,\\\\x22player_id\\\\x22\\\\x3A\\\\x226382\\\\x22,\\\\x22situation\\\\x22\\\\x3A\\\\x22OpenPlay\\\\x22,\\\\x22season\\\\x22\\\\x3A\\\\x222020\\\\x22,\\\\x22shotType\\\\x22\\\\x3A\\\\x22LeftFoot\\\\x22,\\\\x22match_id\\\\x22\\\\x3A\\\\x2214684\\\\x22,\\\\x22h_team\\\\x22\\\\x3A\\\\x22Wolverhampton\\\\x20Wanderers\\\\x22,\\\\x22a_team\\\\x22\\\\x3A\\\\x22Leeds\\\\x22,\\\\x22h_goals\\\\x22\\\\x3A\\\\x221\\\\x22,\\\\x22a_goals\\\\x22\\\\x3A\\\\x220\\\\x22,\\\\x22date\\\\x22\\\\x3A\\\\x222021\\\\x2D02\\\\x2D19\\\\x2020\\\\x3A00\\\\x3A00\\\\x22,\\\\x22player_assisted\\\\x22\\\\x3Anull,\\\\x22lastAction\\\\x22\\\\x3A\\\\x22BallRecovery\\\\x22\\\\x7D,\\\\x7B\\\\x22id\\\\x22\\\\x3A\\\\x22405305\\\\x22,\\\\x22minute\\\\x22\\\\x3A\\\\x2217\\\\x22,\\\\x22result\\\\x22\\\\x3A\\\\x22BlockedShot\\\\x22,\\\\x22X\\\\x22\\\\x3A\\\\x220.7380000305175781\\\\x22,\\\\x22Y\\\\x22\\\\x3A\\\\x220.5029999923706054\\\\x22,\\\\x22xG\\\\x22\\\\x3A\\\\x220.019098620861768723\\\\x22,\\\\x22player\\\\x22\\\\x3A\\\\x22Adama\\\\x20Traor\\\\x5Cu00e9\\\\x22,\\\\x22h_a\\\\x22\\\\x3A\\\\x22h\\\\x22,\\\\x22player_id\\\\x22\\\\x3A\\\\x22900\\\\x22,\\\\x22situation\\\\x22\\\\x3A\\\\x22OpenPlay\\\\x22,\\\\x22season\\\\x22\\\\x3A\\\\x222020\\\\x22,\\\\x22shotType\\\\x22\\\\x3A\\\\x22RightFoot\\\\x22,\\\\x22match_id\\\\x22\\\\x3A\\\\x2214684\\\\x22,\\\\x22h_team\\\\x22\\\\x3A\\\\x22Wolverhampton\\\\x20Wanderers\\\\x22,\\\\x22a_team\\\\x22\\\\x3A\\\\x22Leeds\\\\x22,\\\\x22h_goals\\\\x22\\\\x3A\\\\x221\\\\x22,\\\\x22a_goals\\\\x22\\\\x3A\\\\x220\\\\x22,\\\\x22date\\\\x22\\\\x3A\\\\x222021\\\\x2D02\\\\x2D19\\\\x2020\\\\x3A00\\\\x3A00\\\\x22,\\\\x22player_assisted\\\\x22\\\\x3A\\\\x22N\\\\x5Cu00e9lson\\\\x20Semedo\\\\x22,\\\\x22lastAction\\\\x22\\\\x3A\\\\x22Pass\\\\x22\\\\x7D,\\\\x7B\\\\x22id\\\\x22\\\\x3A\\\\x22405306\\\\x22,\\\\x22minute\\\\x22\\\\x3A\\\\x2217\\\\x22,\\\\x22result\\\\x22\\\\x3A\\\\x22SavedShot\\\\x22,\\\\x22X\\\\x22\\\\x3A\\\\x220.735\\\\x22,\\\\x22Y\\\\x22\\\\x3A\\\\x220.40799999237060547\\\\x22,\\\\x22xG\\\\x22\\\\x3A\\\\x220.01313160452991724\\\\x22,\\\\x22player\\\\x22\\\\x3A\\\\x22Pedro\\\\x20Neto\\\\x22,\\\\x22h_a\\\\x22\\\\x3A\\\\x22h\\\\x22,\\\\x22player_id\\\\x22\\\\x3A\\\\x226382\\\\x22,\\\\x22situation\\\\x22\\\\x3A\\\\x22OpenPlay\\\\x22,\\\\x22season\\\\x22\\\\x3A\\\\x222020\\\\x22,\\\\x22shotType\\\\x22\\\\x3A\\\\x22LeftFoot\\\\x22,\\\\x22match_id\\\\x22\\\\x3A\\\\x2214684\\\\x22,\\\\x22h_team\\\\x22\\\\x3A\\\\x22Wolverhampton\\\\x20Wanderers\\\\x22,\\\\x22a_team\\\\x22\\\\x3A\\\\x22Leeds\\\\x22,\\\\x22h_goals\\\\x22\\\\x3A\\\\x221\\\\x22,\\\\x22a_goals\\\\x22\\\\x3A\\\\x220\\\\x22,\\\\x22date\\\\x22\\\\x3A\\\\x222021\\\\x2D02\\\\x2D19\\\\x2020\\\\x3A00\\\\x3A00\\\\x22,\\\\x22player_assisted\\\\x22\\\\x3Anull,\\\\x22lastAction\\\\x22\\\\x3A\\\\x22Rebound\\\\x22\\\\x7D,\\\\x7B\\\\x22id\\\\x22\\\\x3A\\\\x22405308\\\\x22,\\\\x22minute\\\\x22\\\\x3A\\\\x2220\\\\x22,\\\\x22result\\\\x22\\\\x3A\\\\x22MissedShots\\\\x22,\\\\x22X\\\\x22\\\\x3A\\\\x220.7630000305175781\\\\x22,\\\\x22Y\\\\x22\\\\x3A\\\\x220.6859999847412109\\\\x22,\\\\x22xG\\\\x22\\\\x3A\\\\x220.014956190250813961\\\\x22,\\\\x22player\\\\x22\\\\x3A\\\\x22Pedro\\\\x20Neto\\\\x22,\\\\x22h_a\\\\x22\\\\x3A\\\\x22h\\\\x22,\\\\x22player_id\\\\x22\\\\x3A\\\\x226382\\\\x22,\\\\x22situation\\\\x22\\\\x3A\\\\x22OpenPlay\\\\x22,\\\\x22season\\\\x22\\\\x3A\\\\x222020\\\\x22,\\\\x22shotType\\\\x22\\\\x3A\\\\x22LeftFoot\\\\x22,\\\\x22match_id\\\\x22\\\\x3A\\\\x2214684\\\\x22,\\\\x22h_team\\\\x22\\\\x3A\\\\x22Wolverhampton\\\\x20Wanderers\\\\x22,\\\\x22a_team\\\\x22\\\\x3A\\\\x22Leeds\\\\x22,\\\\x22h_goals\\\\x22\\\\x3A\\\\x221\\\\x22,\\\\x22a_goals\\\\x22\\\\x3A\\\\x220\\\\x22,\\\\x22date\\\\x22\\\\x3A\\\\x222021\\\\x2D02\\\\x2D19\\\\x2020\\\\x3A00\\\\x3A00\\\\x22,\\\\x22player_assisted\\\\x22\\\\x3A\\\\x22Willian\\\\x20Jos\\\\x5Cu00e9\\\\x22,\\\\x22lastAction\\\\x22\\\\x3A\\\\x22Pass\\\\x22\\\\x7D,\\\\x7B\\\\x22id\\\\x22\\\\x3A\\\\x22405313\\\\x22,\\\\x22minute\\\\x22\\\\x3A\\\\x2227\\\\x22,\\\\x22result\\\\x22\\\\x3A\\\\x22SavedShot\\\\x22,\\\\x22X\\\\x22\\\\x3A\\\\x220.91\\\\x22,\\\\x22Y\\\\x22\\\\x3A\\\\x220.375\\\\x22,\\\\x22xG\\\\x22\\\\x3A\\\\x220.1294642835855484\\\\x22,\\\\x22player\\\\x22\\\\x3A\\\\x22N\\\\x5Cu00e9lson\\\\x20Semedo\\\\x22,\\\\x22h_a\\\\x22\\\\x3A\\\\x22h\\\\x22,\\\\x22player_id\\\\x22\\\\x3A\\\\x226163\\\\x22,\\\\x22situation\\\\x22\\\\x3A\\\\x22OpenPlay\\\\x22,\\\\x22season\\\\x22\\\\x3A\\\\x222020\\\\x22,\\\\x22shotType\\\\x22\\\\x3A\\\\x22RightFoot\\\\x22,\\\\x22match_id\\\\x22\\\\x3A\\\\x2214684\\\\x22,\\\\x22h_team\\\\x22\\\\x3A\\\\x22Wolverhampton\\\\x20Wanderers\\\\x22,\\\\x22a_team\\\\x22\\\\x3A\\\\x22Leeds\\\\x22,\\\\x22h_goals\\\\x22\\\\x3A\\\\x221\\\\x22,\\\\x22a_goals\\\\x22\\\\x3A\\\\x220\\\\x22,\\\\x22date\\\\x22\\\\x3A\\\\x222021\\\\x2D02\\\\x2D19\\\\x2020\\\\x3A00\\\\x3A00\\\\x22,\\\\x22player_assisted\\\\x22\\\\x3A\\\\x22Pedro\\\\x20Neto\\\\x22,\\\\x22lastAction\\\\x22\\\\x3A\\\\x22Pass\\\\x22\\\\x7D,\\\\x7B\\\\x22id\\\\x22\\\\x3A\\\\x22405314\\\\x22,\\\\x22minute\\\\x22\\\\x3A\\\\x2230\\\\x22,\\\\x22result\\\\x22\\\\x3A\\\\x22BlockedShot\\\\x22,\\\\x22X\\\\x22\\\\x3A\\\\x220.7930000305175782\\\\x22,\\\\x22Y\\\\x22\\\\x3A\\\\x220.3609999847412109\\\\x22,\\\\x22xG\\\\x22\\\\x3A\\\\x220.055226195603609085\\\\x22,\\\\x22player\\\\x22\\\\x3A\\\\x22Pedro\\\\x20Neto\\\\x22,\\\\x22h_a\\\\x22\\\\x3A\\\\x22h\\\\x22,\\\\x22player_id\\\\x22\\\\x3A\\\\x226382\\\\x22,\\\\x22situation\\\\x22\\\\x3A\\\\x22OpenPlay\\\\x22,\\\\x22season\\\\x22\\\\x3A\\\\x222020\\\\x22,\\\\x22shotType\\\\x22\\\\x3A\\\\x22LeftFoot\\\\x22,\\\\x22match_id\\\\x22\\\\x3A\\\\x2214684\\\\x22,\\\\x22h_team\\\\x22\\\\x3A\\\\x22Wolverhampton\\\\x20Wanderers\\\\x22,\\\\x22a_team\\\\x22\\\\x3A\\\\x22Leeds\\\\x22,\\\\x22h_goals\\\\x22\\\\x3A\\\\x221\\\\x22,\\\\x22a_goals\\\\x22\\\\x3A\\\\x220\\\\x22,\\\\x22date\\\\x22\\\\x3A\\\\x222021\\\\x2D02\\\\x2D19\\\\x2020\\\\x3A00\\\\x3A00\\\\x22,\\\\x22player_assisted\\\\x22\\\\x3A\\\\x22Willian\\\\x20Jos\\\\x5Cu00e9\\\\x22,\\\\x22lastAction\\\\x22\\\\x3A\\\\x22Pass\\\\x22\\\\x7D,\\\\x7B\\\\x22id\\\\x22\\\\x3A\\\\x22405315\\\\x22,\\\\x22minute\\\\x22\\\\x3A\\\\x2234\\\\x22,\\\\x22result\\\\x22\\\\x3A\\\\x22SavedShot\\\\x22,\\\\x22X\\\\x22\\\\x3A\\\\x220.9569999694824218\\\\x22,\\\\x22Y\\\\x22\\\\x3A\\\\x220.31\\\\x22,\\\\x22xG\\\\x22\\\\x3A\\\\x220.053609706461429596\\\\x22,\\\\x22player\\\\x22\\\\x3A\\\\x22N\\\\x5Cu00e9lson\\\\x20Semedo\\\\x22,\\\\x22h_a\\\\x22\\\\x3A\\\\x22h\\\\x22,\\\\x22player_id\\\\x22\\\\x3A\\\\x226163\\\\x22,\\\\x22situation\\\\x22\\\\x3A\\\\x22OpenPlay\\\\x22,\\\\x22season\\\\x22\\\\x3A\\\\x222020\\\\x22,\\\\x22shotType\\\\x22\\\\x3A\\\\x22RightFoot\\\\x22,\\\\x22match_id\\\\x22\\\\x3A\\\\x2214684\\\\x22,\\\\x22h_team\\\\x22\\\\x3A\\\\x22Wolverhampton\\\\x20Wanderers\\\\x22,\\\\x22a_team\\\\x22\\\\x3A\\\\x22Leeds\\\\x22,\\\\x22h_goals\\\\x22\\\\x3A\\\\x221\\\\x22,\\\\x22a_goals\\\\x22\\\\x3A\\\\x220\\\\x22,\\\\x22date\\\\x22\\\\x3A\\\\x222021\\\\x2D02\\\\x2D19\\\\x2020\\\\x3A00\\\\x3A00\\\\x22,\\\\x22player_assisted\\\\x22\\\\x3A\\\\x22Willian\\\\x20Jos\\\\x5Cu00e9\\\\x22,\\\\x22lastAction\\\\x22\\\\x3A\\\\x22Pass\\\\x22\\\\x7D,\\\\x7B\\\\x22id\\\\x22\\\\x3A\\\\x22405317\\\\x22,\\\\x22minute\\\\x22\\\\x3A\\\\x2250\\\\x22,\\\\x22result\\\\x22\\\\x3A\\\\x22MissedShots\\\\x22,\\\\x22X\\\\x22\\\\x3A\\\\x220.6969999694824218\\\\x22,\\\\x22Y\\\\x22\\\\x3A\\\\x220.48400001525878905\\\\x22,\\\\x22xG\\\\x22\\\\x3A\\\\x220.012227309867739677\\\\x22,\\\\x22player\\\\x22\\\\x3A\\\\x22R\\\\x5Cu00faben\\\\x20Neves\\\\x22,\\\\x22h_a\\\\x22\\\\x3A\\\\x22h\\\\x22,\\\\x22player_id\\\\x22\\\\x3A\\\\x226853\\\\x22,\\\\x22situation\\\\x22\\\\x3A\\\\x22OpenPlay\\\\x22,\\\\x22season\\\\x22\\\\x3A\\\\x222020\\\\x22,\\\\x22shotType\\\\x22\\\\x3A\\\\x22RightFoot\\\\x22,\\\\x22match_id\\\\x22\\\\x3A\\\\x2214684\\\\x22,\\\\x22h_team\\\\x22\\\\x3A\\\\x22Wolverhampton\\\\x20Wanderers\\\\x22,\\\\x22a_team\\\\x22\\\\x3A\\\\x22Leeds\\\\x22,\\\\x22h_goals\\\\x22\\\\x3A\\\\x221\\\\x22,\\\\x22a_goals\\\\x22\\\\x3A\\\\x220\\\\x22,\\\\x22date\\\\x22\\\\x3A\\\\x222021\\\\x2D02\\\\x2D19\\\\x2020\\\\x3A00\\\\x3A00\\\\x22,\\\\x22player_assisted\\\\x22\\\\x3A\\\\x22Adama\\\\x20Traor\\\\x5Cu00e9\\\\x22,\\\\x22lastAction\\\\x22\\\\x3A\\\\x22Pass\\\\x22\\\\x7D,\\\\x7B\\\\x22id\\\\x22\\\\x3A\\\\x22405318\\\\x22,\\\\x22minute\\\\x22\\\\x3A\\\\x2251\\\\x22,\\\\x22result\\\\x22\\\\x3A\\\\x22MissedShots\\\\x22,\\\\x22X\\\\x22\\\\x3A\\\\x220.855999984741211\\\\x22,\\\\x22Y\\\\x22\\\\x3A\\\\x220.325\\\\x22,\\\\x22xG\\\\x22\\\\x3A\\\\x220.04488198459148407\\\\x22,\\\\x22player\\\\x22\\\\x3A\\\\x22Pedro\\\\x20Neto\\\\x22,\\\\x22h_a\\\\x22\\\\x3A\\\\x22h\\\\x22,\\\\x22player_id\\\\x22\\\\x3A\\\\x226382\\\\x22,\\\\x22situation\\\\x22\\\\x3A\\\\x22OpenPlay\\\\x22,\\\\x22season\\\\x22\\\\x3A\\\\x222020\\\\x22,\\\\x22shotType\\\\x22\\\\x3A\\\\x22RightFoot\\\\x22,\\\\x22match_id\\\\x22\\\\x3A\\\\x2214684\\\\x22,\\\\x22h_team\\\\x22\\\\x3A\\\\x22Wolverhampton\\\\x20Wanderers\\\\x22,\\\\x22a_team\\\\x22\\\\x3A\\\\x22Leeds\\\\x22,\\\\x22h_goals\\\\x22\\\\x3A\\\\x221\\\\x22,\\\\x22a_goals\\\\x22\\\\x3A\\\\x220\\\\x22,\\\\x22date\\\\x22\\\\x3A\\\\x222021\\\\x2D02\\\\x2D19\\\\x2020\\\\x3A00\\\\x3A00\\\\x22,\\\\x22player_assisted\\\\x22\\\\x3A\\\\x22Leander\\\\x20Dendoncker\\\\x22,\\\\x22lastAction\\\\x22\\\\x3A\\\\x22None\\\\x22\\\\x7D,\\\\x7B\\\\x22id\\\\x22\\\\x3A\\\\x22405324\\\\x22,\\\\x22minute\\\\x22\\\\x3A\\\\x2263\\\\x22,\\\\x22result\\\\x22\\\\x3A\\\\x22ShotOnPost\\\\x22,\\\\x22X\\\\x22\\\\x3A\\\\x220.7519999694824219\\\\x22,\\\\x22Y\\\\x22\\\\x3A\\\\x220.605\\\\x22,\\\\x22xG\\\\x22\\\\x3A\\\\x220.023560622707009315\\\\x22,\\\\x22player\\\\x22\\\\x3A\\\\x22Adama\\\\x20Traor\\\\x5Cu00e9\\\\x22,\\\\x22h_a\\\\x22\\\\x3A\\\\x22h\\\\x22,\\\\x22player_id\\\\x22\\\\x3A\\\\x22900\\\\x22,\\\\x22situation\\\\x22\\\\x3A\\\\x22OpenPlay\\\\x22,\\\\x22season\\\\x22\\\\x3A\\\\x222020\\\\x22,\\\\x22shotType\\\\x22\\\\x3A\\\\x22RightFoot\\\\x22,\\\\x22match_id\\\\x22\\\\x3A\\\\x2214684\\\\x22,\\\\x22h_team\\\\x22\\\\x3A\\\\x22Wolverhampton\\\\x20Wanderers\\\\x22,\\\\x22a_team\\\\x22\\\\x3A\\\\x22Leeds\\\\x22,\\\\x22h_goals\\\\x22\\\\x3A\\\\x221\\\\x22,\\\\x22a_goals\\\\x22\\\\x3A\\\\x220\\\\x22,\\\\x22date\\\\x22\\\\x3A\\\\x222021\\\\x2D02\\\\x2D19\\\\x2020\\\\x3A00\\\\x3A00\\\\x22,\\\\x22player_assisted\\\\x22\\\\x3A\\\\x22Fernando\\\\x20Mar\\\\x5Cu00e7al\\\\x22,\\\\x22lastAction\\\\x22\\\\x3A\\\\x22Pass\\\\x22\\\\x7D,\\\\x7B\\\\x22id\\\\x22\\\\x3A\\\\x22405328\\\\x22,\\\\x22minute\\\\x22\\\\x3A\\\\x2269\\\\x22,\\\\x22result\\\\x22\\\\x3A\\\\x22BlockedShot\\\\x22,\\\\x22X\\\\x22\\\\x3A\\\\x220.924000015258789\\\\x22,\\\\x22Y\\\\x22\\\\x3A\\\\x220.44799999237060545\\\\x22,\\\\x22xG\\\\x22\\\\x3A\\\\x220.08681493997573853\\\\x22,\\\\x22player\\\\x22\\\\x3A\\\\x22Leander\\\\x20Dendoncker\\\\x22,\\\\x22h_a\\\\x22\\\\x3A\\\\x22h\\\\x22,\\\\x22player_id\\\\x22\\\\x3A\\\\x227236\\\\x22,\\\\x22situation\\\\x22\\\\x3A\\\\x22FromCorner\\\\x22,\\\\x22season\\\\x22\\\\x3A\\\\x222020\\\\x22,\\\\x22shotType\\\\x22\\\\x3A\\\\x22Head\\\\x22,\\\\x22match_id\\\\x22\\\\x3A\\\\x2214684\\\\x22,\\\\x22h_team\\\\x22\\\\x3A\\\\x22Wolverhampton\\\\x20Wanderers\\\\x22,\\\\x22a_team\\\\x22\\\\x3A\\\\x22Leeds\\\\x22,\\\\x22h_goals\\\\x22\\\\x3A\\\\x221\\\\x22,\\\\x22a_goals\\\\x22\\\\x3A\\\\x220\\\\x22,\\\\x22date\\\\x22\\\\x3A\\\\x222021\\\\x2D02\\\\x2D19\\\\x2020\\\\x3A00\\\\x3A00\\\\x22,\\\\x22player_assisted\\\\x22\\\\x3A\\\\x22Jo\\\\x5Cu00e3o\\\\x20Moutinho\\\\x22,\\\\x22lastAction\\\\x22\\\\x3A\\\\x22Cross\\\\x22\\\\x7D,\\\\x7B\\\\x22id\\\\x22\\\\x3A\\\\x22405329\\\\x22,\\\\x22minute\\\\x22\\\\x3A\\\\x2284\\\\x22,\\\\x22result\\\\x22\\\\x3A\\\\x22MissedShots\\\\x22,\\\\x22X\\\\x22\\\\x3A\\\\x220.7830000305175782\\\\x22,\\\\x22Y\\\\x22\\\\x3A\\\\x220.44\\\\x22,\\\\x22xG\\\\x22\\\\x3A\\\\x220.03367955982685089\\\\x22,\\\\x22player\\\\x22\\\\x3A\\\\x22Jo\\\\x5Cu00e3o\\\\x20Moutinho\\\\x22,\\\\x22h_a\\\\x22\\\\x3A\\\\x22h\\\\x22,\\\\x22player_id\\\\x22\\\\x3A\\\\x223422\\\\x22,\\\\x22situation\\\\x22\\\\x3A\\\\x22OpenPlay\\\\x22,\\\\x22season\\\\x22\\\\x3A\\\\x222020\\\\x22,\\\\x22shotType\\\\x22\\\\x3A\\\\x22RightFoot\\\\x22,\\\\x22match_id\\\\x22\\\\x3A\\\\x2214684\\\\x22,\\\\x22h_team\\\\x22\\\\x3A\\\\x22Wolverhampton\\\\x20Wanderers\\\\x22,\\\\x22a_team\\\\x22\\\\x3A\\\\x22Leeds\\\\x22,\\\\x22h_goals\\\\x22\\\\x3A\\\\x221\\\\x22,\\\\x22a_goals\\\\x22\\\\x3A\\\\x220\\\\x22,\\\\x22date\\\\x22\\\\x3A\\\\x222021\\\\x2D02\\\\x2D19\\\\x2020\\\\x3A00\\\\x3A00\\\\x22,\\\\x22player_assisted\\\\x22\\\\x3A\\\\x22Willian\\\\x20Jos\\\\x5Cu00e9\\\\x22,\\\\x22lastAction\\\\x22\\\\x3A\\\\x22Pass\\\\x22\\\\x7D,\\\\x7B\\\\x22id\\\\x22\\\\x3A\\\\x22405331\\\\x22,\\\\x22minute\\\\x22\\\\x3A\\\\x2289\\\\x22,\\\\x22result\\\\x22\\\\x3A\\\\x22BlockedShot\\\\x22,\\\\x22X\\\\x22\\\\x3A\\\\x220.8809999847412109\\\\x22,\\\\x22Y\\\\x22\\\\x3A\\\\x220.28700000762939454\\\\x22,\\\\x22xG\\\\x22\\\\x3A\\\\x220.0551791787147522\\\\x22,\\\\x22player\\\\x22\\\\x3A\\\\x22Fabio\\\\x20Silva\\\\x22,\\\\x22h_a\\\\x22\\\\x3A\\\\x22h\\\\x22,\\\\x22player_id\\\\x22\\\\x3A\\\\x228778\\\\x22,\\\\x22situation\\\\x22\\\\x3A\\\\x22OpenPlay\\\\x22,\\\\x22season\\\\x22\\\\x3A\\\\x222020\\\\x22,\\\\x22shotType\\\\x22\\\\x3A\\\\x22RightFoot\\\\x22,\\\\x22match_id\\\\x22\\\\x3A\\\\x2214684\\\\x22,\\\\x22h_team\\\\x22\\\\x3A\\\\x22Wolverhampton\\\\x20Wanderers\\\\x22,\\\\x22a_team\\\\x22\\\\x3A\\\\x22Leeds\\\\x22,\\\\x22h_goals\\\\x22\\\\x3A\\\\x221\\\\x22,\\\\x22a_goals\\\\x22\\\\x3A\\\\x220\\\\x22,\\\\x22date\\\\x22\\\\x3A\\\\x222021\\\\x2D02\\\\x2D19\\\\x2020\\\\x3A00\\\\x3A00\\\\x22,\\\\x22player_assisted\\\\x22\\\\x3Anull,\\\\x22lastAction\\\\x22\\\\x3A\\\\x22None\\\\x22\\\\x7D\\\\x5D,\\\\x22a\\\\x22\\\\x3A\\\\x5B\\\\x7B\\\\x22id\\\\x22\\\\x3A\\\\x22405300\\\\x22,\\\\x22minute\\\\x22\\\\x3A\\\\x224\\\\x22,\\\\x22result\\\\x22\\\\x3A\\\\x22BlockedShot\\\\x22,\\\\x22X\\\\x22\\\\x3A\\\\x220.9180000305175782\\\\x22,\\\\x22Y\\\\x22\\\\x3A\\\\x220.33599998474121096\\\\x22,\\\\x22xG\\\\x22\\\\x3A\\\\x220.07657875120639801\\\\x22,\\\\x22player\\\\x22\\\\x3A\\\\x22Patrick\\\\x20Bamford\\\\x22,\\\\x22h_a\\\\x22\\\\x3A\\\\x22a\\\\x22,\\\\x22player_id\\\\x22\\\\x3A\\\\x22822\\\\x22,\\\\x22situation\\\\x22\\\\x3A\\\\x22OpenPlay\\\\x22,\\\\x22season\\\\x22\\\\x3A\\\\x222020\\\\x22,\\\\x22shotType\\\\x22\\\\x3A\\\\x22RightFoot\\\\x22,\\\\x22match_id\\\\x22\\\\x3A\\\\x2214684\\\\x22,\\\\x22h_team\\\\x22\\\\x3A\\\\x22Wolverhampton\\\\x20Wanderers\\\\x22,\\\\x22a_team\\\\x22\\\\x3A\\\\x22Leeds\\\\x22,\\\\x22h_goals\\\\x22\\\\x3A\\\\x221\\\\x22,\\\\x22a_goals\\\\x22\\\\x3A\\\\x220\\\\x22,\\\\x22date\\\\x22\\\\x3A\\\\x222021\\\\x2D02\\\\x2D19\\\\x2020\\\\x3A00\\\\x3A00\\\\x22,\\\\x22player_assisted\\\\x22\\\\x3A\\\\x22Tyler\\\\x20Roberts\\\\x22,\\\\x22lastAction\\\\x22\\\\x3A\\\\x22Pass\\\\x22\\\\x7D,\\\\x7B\\\\x22id\\\\x22\\\\x3A\\\\x22405304\\\\x22,\\\\x22minute\\\\x22\\\\x3A\\\\x2214\\\\x22,\\\\x22result\\\\x22\\\\x3A\\\\x22SavedShot\\\\x22,\\\\x22X\\\\x22\\\\x3A\\\\x220.764000015258789\\\\x22,\\\\x22Y\\\\x22\\\\x3A\\\\x220.3270000076293945\\\\x22,\\\\x22xG\\\\x22\\\\x3A\\\\x220.01584477350115776\\\\x22,\\\\x22player\\\\x22\\\\x3A\\\\x22Raphinha\\\\x22,\\\\x22h_a\\\\x22\\\\x3A\\\\x22a\\\\x22,\\\\x22player_id\\\\x22\\\\x3A\\\\x228026\\\\x22,\\\\x22situation\\\\x22\\\\x3A\\\\x22OpenPlay\\\\x22,\\\\x22season\\\\x22\\\\x3A\\\\x222020\\\\x22,\\\\x22shotType\\\\x22\\\\x3A\\\\x22LeftFoot\\\\x22,\\\\x22match_id\\\\x22\\\\x3A\\\\x2214684\\\\x22,\\\\x22h_team\\\\x22\\\\x3A\\\\x22Wolverhampton\\\\x20Wanderers\\\\x22,\\\\x22a_team\\\\x22\\\\x3A\\\\x22Leeds\\\\x22,\\\\x22h_goals\\\\x22\\\\x3A\\\\x221\\\\x22,\\\\x22a_goals\\\\x22\\\\x3A\\\\x220\\\\x22,\\\\x22date\\\\x22\\\\x3A\\\\x222021\\\\x2D02\\\\x2D19\\\\x2020\\\\x3A00\\\\x3A00\\\\x22,\\\\x22player_assisted\\\\x22\\\\x3Anull,\\\\x22lastAction\\\\x22\\\\x3A\\\\x22None\\\\x22\\\\x7D,\\\\x7B\\\\x22id\\\\x22\\\\x3A\\\\x22405307\\\\x22,\\\\x22minute\\\\x22\\\\x3A\\\\x2219\\\\x22,\\\\x22result\\\\x22\\\\x3A\\\\x22SavedShot\\\\x22,\\\\x22X\\\\x22\\\\x3A\\\\x220.919000015258789\\\\x22,\\\\x22Y\\\\x22\\\\x3A\\\\x220.48700000762939455\\\\x22,\\\\x22xG\\\\x22\\\\x3A\\\\x220.3344014883041382\\\\x22,\\\\x22player\\\\x22\\\\x3A\\\\x22Liam\\\\x20Cooper\\\\x22,\\\\x22h_a\\\\x22\\\\x3A\\\\x22a\\\\x22,\\\\x22player_id\\\\x22\\\\x3A\\\\x228816\\\\x22,\\\\x22situation\\\\x22\\\\x3A\\\\x22SetPiece\\\\x22,\\\\x22season\\\\x22\\\\x3A\\\\x222020\\\\x22,\\\\x22shotType\\\\x22\\\\x3A\\\\x22Head\\\\x22,\\\\x22match_id\\\\x22\\\\x3A\\\\x2214684\\\\x22,\\\\x22h_team\\\\x22\\\\x3A\\\\x22Wolverhampton\\\\x20Wanderers\\\\x22,\\\\x22a_team\\\\x22\\\\x3A\\\\x22Leeds\\\\x22,\\\\x22h_goals\\\\x22\\\\x3A\\\\x221\\\\x22,\\\\x22a_goals\\\\x22\\\\x3A\\\\x220\\\\x22,\\\\x22date\\\\x22\\\\x3A\\\\x222021\\\\x2D02\\\\x2D19\\\\x2020\\\\x3A00\\\\x3A00\\\\x22,\\\\x22player_assisted\\\\x22\\\\x3A\\\\x22Raphinha\\\\x22,\\\\x22lastAction\\\\x22\\\\x3A\\\\x22Cross\\\\x22\\\\x7D,\\\\x7B\\\\x22id\\\\x22\\\\x3A\\\\x22405309\\\\x22,\\\\x22minute\\\\x22\\\\x3A\\\\x2226\\\\x22,\\\\x22result\\\\x22\\\\x3A\\\\x22ShotOnPost\\\\x22,\\\\x22X\\\\x22\\\\x3A\\\\x220.9619999694824218\\\\x22,\\\\x22Y\\\\x22\\\\x3A\\\\x220.25799999237060545\\\\x22,\\\\x22xG\\\\x22\\\\x3A\\\\x220.023589136078953743\\\\x22,\\\\x22player\\\\x22\\\\x3A\\\\x22Mateusz\\\\x20Klich\\\\x22,\\\\x22h_a\\\\x22\\\\x3A\\\\x22a\\\\x22,\\\\x22player_id\\\\x22\\\\x3A\\\\x224381\\\\x22,\\\\x22situation\\\\x22\\\\x3A\\\\x22FromCorner\\\\x22,\\\\x22season\\\\x22\\\\x3A\\\\x222020\\\\x22,\\\\x22shotType\\\\x22\\\\x3A\\\\x22RightFoot\\\\x22,\\\\x22match_id\\\\x22\\\\x3A\\\\x2214684\\\\x22,\\\\x22h_team\\\\x22\\\\x3A\\\\x22Wolverhampton\\\\x20Wanderers\\\\x22,\\\\x22a_team\\\\x22\\\\x3A\\\\x22Leeds\\\\x22,\\\\x22h_goals\\\\x22\\\\x3A\\\\x221\\\\x22,\\\\x22a_goals\\\\x22\\\\x3A\\\\x220\\\\x22,\\\\x22date\\\\x22\\\\x3A\\\\x222021\\\\x2D02\\\\x2D19\\\\x2020\\\\x3A00\\\\x3A00\\\\x22,\\\\x22player_assisted\\\\x22\\\\x3A\\\\x22Raphinha\\\\x22,\\\\x22lastAction\\\\x22\\\\x3A\\\\x22Chipped\\\\x22\\\\x7D,\\\\x7B\\\\x22id\\\\x22\\\\x3A\\\\x22405310\\\\x22,\\\\x22minute\\\\x22\\\\x3A\\\\x2226\\\\x22,\\\\x22result\\\\x22\\\\x3A\\\\x22SavedShot\\\\x22,\\\\x22X\\\\x22\\\\x3A\\\\x220.8969999694824219\\\\x22,\\\\x22Y\\\\x22\\\\x3A\\\\x220.585\\\\x22,\\\\x22xG\\\\x22\\\\x3A\\\\x220.08791255950927734\\\\x22,\\\\x22player\\\\x22\\\\x3A\\\\x22Pascal\\\\x20Struijk\\\\x22,\\\\x22h_a\\\\x22\\\\x3A\\\\x22a\\\\x22,\\\\x22player_id\\\\x22\\\\x3A\\\\x228717\\\\x22,\\\\x22situation\\\\x22\\\\x3A\\\\x22FromCorner\\\\x22,\\\\x22season\\\\x22\\\\x3A\\\\x222020\\\\x22,\\\\x22shotType\\\\x22\\\\x3A\\\\x22RightFoot\\\\x22,\\\\x22match_id\\\\x22\\\\x3A\\\\x2214684\\\\x22,\\\\x22h_team\\\\x22\\\\x3A\\\\x22Wolverhampton\\\\x20Wanderers\\\\x22,\\\\x22a_team\\\\x22\\\\x3A\\\\x22Leeds\\\\x22,\\\\x22h_goals\\\\x22\\\\x3A\\\\x221\\\\x22,\\\\x22a_goals\\\\x22\\\\x3A\\\\x220\\\\x22,\\\\x22date\\\\x22\\\\x3A\\\\x222021\\\\x2D02\\\\x2D19\\\\x2020\\\\x3A00\\\\x3A00\\\\x22,\\\\x22player_assisted\\\\x22\\\\x3Anull,\\\\x22lastAction\\\\x22\\\\x3A\\\\x22Rebound\\\\x22\\\\x7D,\\\\x7B\\\\x22id\\\\x22\\\\x3A\\\\x22405311\\\\x22,\\\\x22minute\\\\x22\\\\x3A\\\\x2226\\\\x22,\\\\x22result\\\\x22\\\\x3A\\\\x22BlockedShot\\\\x22,\\\\x22X\\\\x22\\\\x3A\\\\x220.9459999847412109\\\\x22,\\\\x22Y\\\\x22\\\\x3A\\\\x220.664000015258789\\\\x22,\\\\x22xG\\\\x22\\\\x3A\\\\x220.05868424102663994\\\\x22,\\\\x22player\\\\x22\\\\x3A\\\\x22Pascal\\\\x20Struijk\\\\x22,\\\\x22h_a\\\\x22\\\\x3A\\\\x22a\\\\x22,\\\\x22player_id\\\\x22\\\\x3A\\\\x228717\\\\x22,\\\\x22situation\\\\x22\\\\x3A\\\\x22FromCorner\\\\x22,\\\\x22season\\\\x22\\\\x3A\\\\x222020\\\\x22,\\\\x22shotType\\\\x22\\\\x3A\\\\x22LeftFoot\\\\x22,\\\\x22match_id\\\\x22\\\\x3A\\\\x2214684\\\\x22,\\\\x22h_team\\\\x22\\\\x3A\\\\x22Wolverhampton\\\\x20Wanderers\\\\x22,\\\\x22a_team\\\\x22\\\\x3A\\\\x22Leeds\\\\x22,\\\\x22h_goals\\\\x22\\\\x3A\\\\x221\\\\x22,\\\\x22a_goals\\\\x22\\\\x3A\\\\x220\\\\x22,\\\\x22date\\\\x22\\\\x3A\\\\x222021\\\\x2D02\\\\x2D19\\\\x2020\\\\x3A00\\\\x3A00\\\\x22,\\\\x22player_assisted\\\\x22\\\\x3Anull,\\\\x22lastAction\\\\x22\\\\x3A\\\\x22Rebound\\\\x22\\\\x7D,\\\\x7B\\\\x22id\\\\x22\\\\x3A\\\\x22405312\\\\x22,\\\\x22minute\\\\x22\\\\x3A\\\\x2226\\\\x22,\\\\x22result\\\\x22\\\\x3A\\\\x22MissedShots\\\\x22,\\\\x22X\\\\x22\\\\x3A\\\\x220.7480000305175781\\\\x22,\\\\x22Y\\\\x22\\\\x3A\\\\x220.75\\\\x22,\\\\x22xG\\\\x22\\\\x3A\\\\x220.012216409668326378\\\\x22,\\\\x22player\\\\x22\\\\x3A\\\\x22Tyler\\\\x20Roberts\\\\x22,\\\\x22h_a\\\\x22\\\\x3A\\\\x22a\\\\x22,\\\\x22player_id\\\\x22\\\\x3A\\\\x221014\\\\x22,\\\\x22situation\\\\x22\\\\x3A\\\\x22OpenPlay\\\\x22,\\\\x22season\\\\x22\\\\x3A\\\\x222020\\\\x22,\\\\x22shotType\\\\x22\\\\x3A\\\\x22RightFoot\\\\x22,\\\\x22match_id\\\\x22\\\\x3A\\\\x2214684\\\\x22,\\\\x22h_team\\\\x22\\\\x3A\\\\x22Wolverhampton\\\\x20Wanderers\\\\x22,\\\\x22a_team\\\\x22\\\\x3A\\\\x22Leeds\\\\x22,\\\\x22h_goals\\\\x22\\\\x3A\\\\x221\\\\x22,\\\\x22a_goals\\\\x22\\\\x3A\\\\x220\\\\x22,\\\\x22date\\\\x22\\\\x3A\\\\x222021\\\\x2D02\\\\x2D19\\\\x2020\\\\x3A00\\\\x3A00\\\\x22,\\\\x22player_assisted\\\\x22\\\\x3A\\\\x22Jack\\\\x20Harrison\\\\x22,\\\\x22lastAction\\\\x22\\\\x3A\\\\x22Pass\\\\x22\\\\x7D,\\\\x7B\\\\x22id\\\\x22\\\\x3A\\\\x22405316\\\\x22,\\\\x22minute\\\\x22\\\\x3A\\\\x2237\\\\x22,\\\\x22result\\\\x22\\\\x3A\\\\x22BlockedShot\\\\x22,\\\\x22X\\\\x22\\\\x3A\\\\x220.9019999694824219\\\\x22,\\\\x22Y\\\\x22\\\\x3A\\\\x220.36400001525878906\\\\x22,\\\\x22xG\\\\x22\\\\x3A\\\\x220.07784339040517807\\\\x22,\\\\x22player\\\\x22\\\\x3A\\\\x22Raphinha\\\\x22,\\\\x22h_a\\\\x22\\\\x3A\\\\x22a\\\\x22,\\\\x22player_id\\\\x22\\\\x3A\\\\x228026\\\\x22,\\\\x22situation\\\\x22\\\\x3A\\\\x22OpenPlay\\\\x22,\\\\x22season\\\\x22\\\\x3A\\\\x222020\\\\x22,\\\\x22shotType\\\\x22\\\\x3A\\\\x22RightFoot\\\\x22,\\\\x22match_id\\\\x22\\\\x3A\\\\x2214684\\\\x22,\\\\x22h_team\\\\x22\\\\x3A\\\\x22Wolverhampton\\\\x20Wanderers\\\\x22,\\\\x22a_team\\\\x22\\\\x3A\\\\x22Leeds\\\\x22,\\\\x22h_goals\\\\x22\\\\x3A\\\\x221\\\\x22,\\\\x22a_goals\\\\x22\\\\x3A\\\\x220\\\\x22,\\\\x22date\\\\x22\\\\x3A\\\\x222021\\\\x2D02\\\\x2D19\\\\x2020\\\\x3A00\\\\x3A00\\\\x22,\\\\x22player_assisted\\\\x22\\\\x3Anull,\\\\x22lastAction\\\\x22\\\\x3A\\\\x22BallRecovery\\\\x22\\\\x7D,\\\\x7B\\\\x22id\\\\x22\\\\x3A\\\\x22405319\\\\x22,\\\\x22minute\\\\x22\\\\x3A\\\\x2253\\\\x22,\\\\x22result\\\\x22\\\\x3A\\\\x22BlockedShot\\\\x22,\\\\x22X\\\\x22\\\\x3A\\\\x220.925\\\\x22,\\\\x22Y\\\\x22\\\\x3A\\\\x220.4929999923706055\\\\x22,\\\\x22xG\\\\x22\\\\x3A\\\\x220.11915230751037598\\\\x22,\\\\x22player\\\\x22\\\\x3A\\\\x22Raphinha\\\\x22,\\\\x22h_a\\\\x22\\\\x3A\\\\x22a\\\\x22,\\\\x22player_id\\\\x22\\\\x3A\\\\x228026\\\\x22,\\\\x22situation\\\\x22\\\\x3A\\\\x22OpenPlay\\\\x22,\\\\x22season\\\\x22\\\\x3A\\\\x222020\\\\x22,\\\\x22shotType\\\\x22\\\\x3A\\\\x22RightFoot\\\\x22,\\\\x22match_id\\\\x22\\\\x3A\\\\x2214684\\\\x22,\\\\x22h_team\\\\x22\\\\x3A\\\\x22Wolverhampton\\\\x20Wanderers\\\\x22,\\\\x22a_team\\\\x22\\\\x3A\\\\x22Leeds\\\\x22,\\\\x22h_goals\\\\x22\\\\x3A\\\\x221\\\\x22,\\\\x22a_goals\\\\x22\\\\x3A\\\\x220\\\\x22,\\\\x22date\\\\x22\\\\x3A\\\\x222021\\\\x2D02\\\\x2D19\\\\x2020\\\\x3A00\\\\x3A00\\\\x22,\\\\x22player_assisted\\\\x22\\\\x3A\\\\x22Luke\\\\x20Ayling\\\\x22,\\\\x22lastAction\\\\x22\\\\x3A\\\\x22Cross\\\\x22\\\\x7D,\\\\x7B\\\\x22id\\\\x22\\\\x3A\\\\x22405320\\\\x22,\\\\x22minute\\\\x22\\\\x3A\\\\x2255\\\\x22,\\\\x22result\\\\x22\\\\x3A\\\\x22MissedShots\\\\x22,\\\\x22X\\\\x22\\\\x3A\\\\x220.894000015258789\\\\x22,\\\\x22Y\\\\x22\\\\x3A\\\\x220.31799999237060544\\\\x22,\\\\x22xG\\\\x22\\\\x3A\\\\x220.03455323725938797\\\\x22,\\\\x22player\\\\x22\\\\x3A\\\\x22Tyler\\\\x20Roberts\\\\x22,\\\\x22h_a\\\\x22\\\\x3A\\\\x22a\\\\x22,\\\\x22player_id\\\\x22\\\\x3A\\\\x221014\\\\x22,\\\\x22situation\\\\x22\\\\x3A\\\\x22FromCorner\\\\x22,\\\\x22season\\\\x22\\\\x3A\\\\x222020\\\\x22,\\\\x22shotType\\\\x22\\\\x3A\\\\x22RightFoot\\\\x22,\\\\x22match_id\\\\x22\\\\x3A\\\\x2214684\\\\x22,\\\\x22h_team\\\\x22\\\\x3A\\\\x22Wolverhampton\\\\x20Wanderers\\\\x22,\\\\x22a_team\\\\x22\\\\x3A\\\\x22Leeds\\\\x22,\\\\x22h_goals\\\\x22\\\\x3A\\\\x221\\\\x22,\\\\x22a_goals\\\\x22\\\\x3A\\\\x220\\\\x22,\\\\x22date\\\\x22\\\\x3A\\\\x222021\\\\x2D02\\\\x2D19\\\\x2020\\\\x3A00\\\\x3A00\\\\x22,\\\\x22player_assisted\\\\x22\\\\x3A\\\\x22Raphinha\\\\x22,\\\\x22lastAction\\\\x22\\\\x3A\\\\x22Cross\\\\x22\\\\x7D,\\\\x7B\\\\x22id\\\\x22\\\\x3A\\\\x22405321\\\\x22,\\\\x22minute\\\\x22\\\\x3A\\\\x2261\\\\x22,\\\\x22result\\\\x22\\\\x3A\\\\x22SavedShot\\\\x22,\\\\x22X\\\\x22\\\\x3A\\\\x220.8880000305175781\\\\x22,\\\\x22Y\\\\x22\\\\x3A\\\\x220.615\\\\x22,\\\\x22xG\\\\x22\\\\x3A\\\\x220.02508280798792839\\\\x22,\\\\x22player\\\\x22\\\\x3A\\\\x22Liam\\\\x20Cooper\\\\x22,\\\\x22h_a\\\\x22\\\\x3A\\\\x22a\\\\x22,\\\\x22player_id\\\\x22\\\\x3A\\\\x228816\\\\x22,\\\\x22situation\\\\x22\\\\x3A\\\\x22SetPiece\\\\x22,\\\\x22season\\\\x22\\\\x3A\\\\x222020\\\\x22,\\\\x22shotType\\\\x22\\\\x3A\\\\x22Head\\\\x22,\\\\x22match_id\\\\x22\\\\x3A\\\\x2214684\\\\x22,\\\\x22h_team\\\\x22\\\\x3A\\\\x22Wolverhampton\\\\x20Wanderers\\\\x22,\\\\x22a_team\\\\x22\\\\x3A\\\\x22Leeds\\\\x22,\\\\x22h_goals\\\\x22\\\\x3A\\\\x221\\\\x22,\\\\x22a_goals\\\\x22\\\\x3A\\\\x220\\\\x22,\\\\x22date\\\\x22\\\\x3A\\\\x222021\\\\x2D02\\\\x2D19\\\\x2020\\\\x3A00\\\\x3A00\\\\x22,\\\\x22player_assisted\\\\x22\\\\x3A\\\\x22Raphinha\\\\x22,\\\\x22lastAction\\\\x22\\\\x3A\\\\x22Cross\\\\x22\\\\x7D,\\\\x7B\\\\x22id\\\\x22\\\\x3A\\\\x22405322\\\\x22,\\\\x22minute\\\\x22\\\\x3A\\\\x2262\\\\x22,\\\\x22result\\\\x22\\\\x3A\\\\x22SavedShot\\\\x22,\\\\x22X\\\\x22\\\\x3A\\\\x220.93\\\\x22,\\\\x22Y\\\\x22\\\\x3A\\\\x220.5020000076293946\\\\x22,\\\\x22xG\\\\x22\\\\x3A\\\\x220.40868714451789856\\\\x22,\\\\x22player\\\\x22\\\\x3A\\\\x22Liam\\\\x20Cooper\\\\x22,\\\\x22h_a\\\\x22\\\\x3A\\\\x22a\\\\x22,\\\\x22player_id\\\\x22\\\\x3A\\\\x228816\\\\x22,\\\\x22situation\\\\x22\\\\x3A\\\\x22SetPiece\\\\x22,\\\\x22season\\\\x22\\\\x3A\\\\x222020\\\\x22,\\\\x22shotType\\\\x22\\\\x3A\\\\x22Head\\\\x22,\\\\x22match_id\\\\x22\\\\x3A\\\\x2214684\\\\x22,\\\\x22h_team\\\\x22\\\\x3A\\\\x22Wolverhampton\\\\x20Wanderers\\\\x22,\\\\x22a_team\\\\x22\\\\x3A\\\\x22Leeds\\\\x22,\\\\x22h_goals\\\\x22\\\\x3A\\\\x221\\\\x22,\\\\x22a_goals\\\\x22\\\\x3A\\\\x220\\\\x22,\\\\x22date\\\\x22\\\\x3A\\\\x222021\\\\x2D02\\\\x2D19\\\\x2020\\\\x3A00\\\\x3A00\\\\x22,\\\\x22player_assisted\\\\x22\\\\x3A\\\\x22Raphinha\\\\x22,\\\\x22lastAction\\\\x22\\\\x3A\\\\x22Cross\\\\x22\\\\x7D,\\\\x7B\\\\x22id\\\\x22\\\\x3A\\\\x22405323\\\\x22,\\\\x22minute\\\\x22\\\\x3A\\\\x2262\\\\x22,\\\\x22result\\\\x22\\\\x3A\\\\x22BlockedShot\\\\x22,\\\\x22X\\\\x22\\\\x3A\\\\x220.9269999694824219\\\\x22,\\\\x22Y\\\\x22\\\\x3A\\\\x220.49\\\\x22,\\\\x22xG\\\\x22\\\\x3A\\\\x220.059934619814157486\\\\x22,\\\\x22player\\\\x22\\\\x3A\\\\x22Patrick\\\\x20Bamford\\\\x22,\\\\x22h_a\\\\x22\\\\x3A\\\\x22a\\\\x22,\\\\x22player_id\\\\x22\\\\x3A\\\\x22822\\\\x22,\\\\x22situation\\\\x22\\\\x3A\\\\x22SetPiece\\\\x22,\\\\x22season\\\\x22\\\\x3A\\\\x222020\\\\x22,\\\\x22shotType\\\\x22\\\\x3A\\\\x22Head\\\\x22,\\\\x22match_id\\\\x22\\\\x3A\\\\x2214684\\\\x22,\\\\x22h_team\\\\x22\\\\x3A\\\\x22Wolverhampton\\\\x20Wanderers\\\\x22,\\\\x22a_team\\\\x22\\\\x3A\\\\x22Leeds\\\\x22,\\\\x22h_goals\\\\x22\\\\x3A\\\\x221\\\\x22,\\\\x22a_goals\\\\x22\\\\x3A\\\\x220\\\\x22,\\\\x22date\\\\x22\\\\x3A\\\\x222021\\\\x2D02\\\\x2D19\\\\x2020\\\\x3A00\\\\x3A00\\\\x22,\\\\x22player_assisted\\\\x22\\\\x3Anull,\\\\x22lastAction\\\\x22\\\\x3A\\\\x22Rebound\\\\x22\\\\x7D,\\\\x7B\\\\x22id\\\\x22\\\\x3A\\\\x22405325\\\\x22,\\\\x22minute\\\\x22\\\\x3A\\\\x2263\\\\x22,\\\\x22result\\\\x22\\\\x3A\\\\x22OwnGoal\\\\x22,\\\\x22X\\\\x22\\\\x3A\\\\x220.01899999976158142\\\\x22,\\\\x22Y\\\\x22\\\\x3A\\\\x220.5259999847412109\\\\x22,\\\\x22xG\\\\x22\\\\x3A\\\\x220\\\\x22,\\\\x22player\\\\x22\\\\x3A\\\\x22Illan\\\\x20Meslier\\\\x22,\\\\x22h_a\\\\x22\\\\x3A\\\\x22a\\\\x22,\\\\x22player_id\\\\x22\\\\x3A\\\\x228715\\\\x22,\\\\x22situation\\\\x22\\\\x3A\\\\x22OpenPlay\\\\x22,\\\\x22season\\\\x22\\\\x3A\\\\x222020\\\\x22,\\\\x22shotType\\\\x22\\\\x3A\\\\x22OtherBodyPart\\\\x22,\\\\x22match_id\\\\x22\\\\x3A\\\\x2214684\\\\x22,\\\\x22h_team\\\\x22\\\\x3A\\\\x22Wolverhampton\\\\x20Wanderers\\\\x22,\\\\x22a_team\\\\x22\\\\x3A\\\\x22Leeds\\\\x22,\\\\x22h_goals\\\\x22\\\\x3A\\\\x221\\\\x22,\\\\x22a_goals\\\\x22\\\\x3A\\\\x220\\\\x22,\\\\x22date\\\\x22\\\\x3A\\\\x222021\\\\x2D02\\\\x2D19\\\\x2020\\\\x3A00\\\\x3A00\\\\x22,\\\\x22player_assisted\\\\x22\\\\x3Anull,\\\\x22lastAction\\\\x22\\\\x3A\\\\x22None\\\\x22\\\\x7D,\\\\x7B\\\\x22id\\\\x22\\\\x3A\\\\x22405326\\\\x22,\\\\x22minute\\\\x22\\\\x3A\\\\x2266\\\\x22,\\\\x22result\\\\x22\\\\x3A\\\\x22SavedShot\\\\x22,\\\\x22X\\\\x22\\\\x3A\\\\x220.9769999694824218\\\\x22,\\\\x22Y\\\\x22\\\\x3A\\\\x220.5540000152587891\\\\x22,\\\\x22xG\\\\x22\\\\x3A\\\\x220.598965048789978\\\\x22,\\\\x22player\\\\x22\\\\x3A\\\\x22Liam\\\\x20Cooper\\\\x22,\\\\x22h_a\\\\x22\\\\x3A\\\\x22a\\\\x22,\\\\x22player_id\\\\x22\\\\x3A\\\\x228816\\\\x22,\\\\x22situation\\\\x22\\\\x3A\\\\x22SetPiece\\\\x22,\\\\x22season\\\\x22\\\\x3A\\\\x222020\\\\x22,\\\\x22shotType\\\\x22\\\\x3A\\\\x22LeftFoot\\\\x22,\\\\x22match_id\\\\x22\\\\x3A\\\\x2214684\\\\x22,\\\\x22h_team\\\\x22\\\\x3A\\\\x22Wolverhampton\\\\x20Wanderers\\\\x22,\\\\x22a_team\\\\x22\\\\x3A\\\\x22Leeds\\\\x22,\\\\x22h_goals\\\\x22\\\\x3A\\\\x221\\\\x22,\\\\x22a_goals\\\\x22\\\\x3A\\\\x220\\\\x22,\\\\x22date\\\\x22\\\\x3A\\\\x222021\\\\x2D02\\\\x2D19\\\\x2020\\\\x3A00\\\\x3A00\\\\x22,\\\\x22player_assisted\\\\x22\\\\x3A\\\\x22Raphinha\\\\x22,\\\\x22lastAction\\\\x22\\\\x3A\\\\x22Cross\\\\x22\\\\x7D,\\\\x7B\\\\x22id\\\\x22\\\\x3A\\\\x22405327\\\\x22,\\\\x22minute\\\\x22\\\\x3A\\\\x2267\\\\x22,\\\\x22result\\\\x22\\\\x3A\\\\x22MissedShots\\\\x22,\\\\x22X\\\\x22\\\\x3A\\\\x220.9209999847412109\\\\x22,\\\\x22Y\\\\x22\\\\x3A\\\\x220.48700000762939455\\\\x22,\\\\x22xG\\\\x22\\\\x3A\\\\x220.10257767140865326\\\\x22,\\\\x22player\\\\x22\\\\x3A\\\\x22Liam\\\\x20Cooper\\\\x22,\\\\x22h_a\\\\x22\\\\x3A\\\\x22a\\\\x22,\\\\x22player_id\\\\x22\\\\x3A\\\\x228816\\\\x22,\\\\x22situation\\\\x22\\\\x3A\\\\x22FromCorner\\\\x22,\\\\x22season\\\\x22\\\\x3A\\\\x222020\\\\x22,\\\\x22shotType\\\\x22\\\\x3A\\\\x22Head\\\\x22,\\\\x22match_id\\\\x22\\\\x3A\\\\x2214684\\\\x22,\\\\x22h_team\\\\x22\\\\x3A\\\\x22Wolverhampton\\\\x20Wanderers\\\\x22,\\\\x22a_team\\\\x22\\\\x3A\\\\x22Leeds\\\\x22,\\\\x22h_goals\\\\x22\\\\x3A\\\\x221\\\\x22,\\\\x22a_goals\\\\x22\\\\x3A\\\\x220\\\\x22,\\\\x22date\\\\x22\\\\x3A\\\\x222021\\\\x2D02\\\\x2D19\\\\x2020\\\\x3A00\\\\x3A00\\\\x22,\\\\x22player_assisted\\\\x22\\\\x3A\\\\x22Jack\\\\x20Harrison\\\\x22,\\\\x22lastAction\\\\x22\\\\x3A\\\\x22Cross\\\\x22\\\\x7D,\\\\x7B\\\\x22id\\\\x22\\\\x3A\\\\x22405330\\\\x22,\\\\x22minute\\\\x22\\\\x3A\\\\x2288\\\\x22,\\\\x22result\\\\x22\\\\x3A\\\\x22BlockedShot\\\\x22,\\\\x22X\\\\x22\\\\x3A\\\\x220.750999984741211\\\\x22,\\\\x22Y\\\\x22\\\\x3A\\\\x220.720999984741211\\\\x22,\\\\x22xG\\\\x22\\\\x3A\\\\x220.014800678007304668\\\\x22,\\\\x22player\\\\x22\\\\x3A\\\\x22Tyler\\\\x20Roberts\\\\x22,\\\\x22h_a\\\\x22\\\\x3A\\\\x22a\\\\x22,\\\\x22player_id\\\\x22\\\\x3A\\\\x221014\\\\x22,\\\\x22situation\\\\x22\\\\x3A\\\\x22OpenPlay\\\\x22,\\\\x22season\\\\x22\\\\x3A\\\\x222020\\\\x22,\\\\x22shotType\\\\x22\\\\x3A\\\\x22RightFoot\\\\x22,\\\\x22match_id\\\\x22\\\\x3A\\\\x2214684\\\\x22,\\\\x22h_team\\\\x22\\\\x3A\\\\x22Wolverhampton\\\\x20Wanderers\\\\x22,\\\\x22a_team\\\\x22\\\\x3A\\\\x22Leeds\\\\x22,\\\\x22h_goals\\\\x22\\\\x3A\\\\x221\\\\x22,\\\\x22a_goals\\\\x22\\\\x3A\\\\x220\\\\x22,\\\\x22date\\\\x22\\\\x3A\\\\x222021\\\\x2D02\\\\x2D19\\\\x2020\\\\x3A00\\\\x3A00\\\\x22,\\\\x22player_assisted\\\\x22\\\\x3A\\\\x22Ezgjan\\\\x20Alioski\\\\x22,\\\\x22lastAction\\\\x22\\\\x3A\\\\x22Pass\\\\x22\\\\x7D,\\\\x7B\\\\x22id\\\\x22\\\\x3A\\\\x22405332\\\\x22,\\\\x22minute\\\\x22\\\\x3A\\\\x2292\\\\x22,\\\\x22result\\\\x22\\\\x3A\\\\x22SavedShot\\\\x22,\\\\x22X\\\\x22\\\\x3A\\\\x220.885\\\\x22,\\\\x22Y\\\\x22\\\\x3A\\\\x220.5420000076293945\\\\x22,\\\\x22xG\\\\x22\\\\x3A\\\\x220.4075760841369629\\\\x22,\\\\x22player\\\\x22\\\\x3A\\\\x22H\\\\x5Cu00e9lder\\\\x20Costa\\\\x22,\\\\x22h_a\\\\x22\\\\x3A\\\\x22a\\\\x22,\\\\x22player_id\\\\x22\\\\x3A\\\\x223428\\\\x22,\\\\x22situation\\\\x22\\\\x3A\\\\x22OpenPlay\\\\x22,\\\\x22season\\\\x22\\\\x3A\\\\x222020\\\\x22,\\\\x22shotType\\\\x22\\\\x3A\\\\x22RightFoot\\\\x22,\\\\x22match_id\\\\x22\\\\x3A\\\\x2214684\\\\x22,\\\\x22h_team\\\\x22\\\\x3A\\\\x22Wolverhampton\\\\x20Wanderers\\\\x22,\\\\x22a_team\\\\x22\\\\x3A\\\\x22Leeds\\\\x22,\\\\x22h_goals\\\\x22\\\\x3A\\\\x221\\\\x22,\\\\x22a_goals\\\\x22\\\\x3A\\\\x220\\\\x22,\\\\x22date\\\\x22\\\\x3A\\\\x222021\\\\x2D02\\\\x2D19\\\\x2020\\\\x3A00\\\\x3A00\\\\x22,\\\\x22player_assisted\\\\x22\\\\x3Anull,\\\\x22lastAction\\\\x22\\\\x3A\\\\x22None\\\\x22\\\\x7D,\\\\x7B\\\\x22id\\\\x22\\\\x3A\\\\x22405333\\\\x22,\\\\x22minute\\\\x22\\\\x3A\\\\x2293\\\\x22,\\\\x22result\\\\x22\\\\x3A\\\\x22MissedShots\\\\x22,\\\\x22X\\\\x22\\\\x3A\\\\x220.9269999694824219\\\\x22,\\\\x22Y\\\\x22\\\\x3A\\\\x220.44799999237060545\\\\x22,\\\\x22xG\\\\x22\\\\x3A\\\\x220.05388607829809189\\\\x22,\\\\x22player\\\\x22\\\\x3A\\\\x22Raphinha\\\\x22,\\\\x22h_a\\\\x22\\\\x3A\\\\x22a\\\\x22,\\\\x22player_id\\\\x22\\\\x3A\\\\x228026\\\\x22,\\\\x22situation\\\\x22\\\\x3A\\\\x22OpenPlay\\\\x22,\\\\x22season\\\\x22\\\\x3A\\\\x222020\\\\x22,\\\\x22shotType\\\\x22\\\\x3A\\\\x22Head\\\\x22,\\\\x22match_id\\\\x22\\\\x3A\\\\x2214684\\\\x22,\\\\x22h_team\\\\x22\\\\x3A\\\\x22Wolverhampton\\\\x20Wanderers\\\\x22,\\\\x22a_team\\\\x22\\\\x3A\\\\x22Leeds\\\\x22,\\\\x22h_goals\\\\x22\\\\x3A\\\\x221\\\\x22,\\\\x22a_goals\\\\x22\\\\x3A\\\\x220\\\\x22,\\\\x22date\\\\x22\\\\x3A\\\\x222021\\\\x2D02\\\\x2D19\\\\x2020\\\\x3A00\\\\x3A00\\\\x22,\\\\x22player_assisted\\\\x22\\\\x3A\\\\x22Luke\\\\x20Ayling\\\\x22,\\\\x22lastAction\\\\x22\\\\x3A\\\\x22HeadPass\\\\x22\\\\x7D\\\\x5D\\\\x7D'),\\n\\t\\tmatch_info \\t= JSON.parse('\\\\x7B\\\\x22id\\\\x22\\\\x3A\\\\x2214684\\\\x22,\\\\x22fid\\\\x22\\\\x3A\\\\x221485334\\\\x22,\\\\x22h\\\\x22\\\\x3A\\\\x22229\\\\x22,\\\\x22a\\\\x22\\\\x3A\\\\x22245\\\\x22,\\\\x22date\\\\x22\\\\x3A\\\\x222021\\\\x2D02\\\\x2D19\\\\x2020\\\\x3A00\\\\x3A00\\\\x22,\\\\x22league_id\\\\x22\\\\x3A\\\\x221\\\\x22,\\\\x22season\\\\x22\\\\x3A\\\\x222020\\\\x22,\\\\x22h_goals\\\\x22\\\\x3A\\\\x221\\\\x22,\\\\x22a_goals\\\\x22\\\\x3A\\\\x220\\\\x22,\\\\x22team_h\\\\x22\\\\x3A\\\\x22Wolverhampton\\\\x20Wanderers\\\\x22,\\\\x22team_a\\\\x22\\\\x3A\\\\x22Leeds\\\\x22,\\\\x22h_xg\\\\x22\\\\x3A\\\\x220.592049\\\\x22,\\\\x22a_xg\\\\x22\\\\x3A\\\\x222.4793\\\\x22,\\\\x22h_w\\\\x22\\\\x3A\\\\x220.0445\\\\x22,\\\\x22h_d\\\\x22\\\\x3A\\\\x220.1246\\\\x22,\\\\x22h_l\\\\x22\\\\x3A\\\\x220.8309\\\\x22,\\\\x22league\\\\x22\\\\x3A\\\\x22EPL\\\\x22,\\\\x22h_shot\\\\x22\\\\x3A\\\\x2215\\\\x22,\\\\x22a_shot\\\\x22\\\\x3A\\\\x2218\\\\x22,\\\\x22h_shotOnTarget\\\\x22\\\\x3A\\\\x225\\\\x22,\\\\x22a_shotOnTarget\\\\x22\\\\x3A\\\\x227\\\\x22,\\\\x22h_deep\\\\x22\\\\x3A\\\\x221\\\\x22,\\\\x22a_deep\\\\x22\\\\x3A\\\\x226\\\\x22,\\\\x22a_ppda\\\\x22\\\\x3A\\\\x227.7368\\\\x22,\\\\x22h_ppda\\\\x22\\\\x3A\\\\x229.8519\\\\x22\\\\x7D');\\n\""
            ]
          },
          "metadata": {
            "tags": []
          },
          "execution_count": 10
        }
      ]
    },
    {
      "cell_type": "code",
      "metadata": {
        "id": "CXqSid2o5Fvz"
      },
      "source": [
        "#strip not neaded data, first and last rows\r\n",
        "ind_start = strings.index(\"('\")+2\r\n",
        "ind_end = strings.index(\"')\")\r\n",
        "\r\n",
        "json_data = strings[ind_start:ind_end]\r\n",
        "json_data = json_data.encode('utf8').decode('unicode_escape')\r\n",
        "\r\n",
        "#convert string to json format\r\n",
        "data = json.loads(json_data)\r\n",
        "data"
      ],
      "execution_count": null,
      "outputs": []
    },
    {
      "cell_type": "code",
      "metadata": {
        "id": "dJqGE7a66Nmy"
      },
      "source": [
        "#dataframe\r\n"
      ],
      "execution_count": 15,
      "outputs": []
    },
    {
      "cell_type": "code",
      "metadata": {
        "id": "2wilkHtc8I-7"
      },
      "source": [
        "#creating the dataframe, naming columns\r\n",
        "x = []\r\n",
        "y = []\r\n",
        "xG = []\r\n",
        "result = []\r\n",
        "team = []\r\n",
        "data_away = data['a']\r\n",
        "data_home = data['h']\r\n",
        "\r\n",
        "for index in range(len(data_home)):\r\n",
        "    for key in data_home[index]:\r\n",
        "        if key == 'X':\r\n",
        "            x.append(data_home[index][key])\r\n",
        "        if key == 'Y':\r\n",
        "            y.append(data_home[index][key])\r\n",
        "        if key == 'h_team':\r\n",
        "            team.append(data_home[index][key])\r\n",
        "        if key == 'xG':\r\n",
        "            xG.append(data_home[index][key])\r\n",
        "        if key == 'result':\r\n",
        "            result.append(data_home[index][key])\r\n",
        "\r\n",
        "for index in range(len(data_away)):\r\n",
        "    for key in data_away[index]:\r\n",
        "        if key == 'X':\r\n",
        "            x.append(data_away[index][key])\r\n",
        "        if key == 'Y':\r\n",
        "            y.append(data_away[index][key])\r\n",
        "        if key == 'a_team':\r\n",
        "            team.append(data_away[index][key])\r\n",
        "        if key == 'xG':\r\n",
        "            xG.append(data_away[index][key])\r\n",
        "        if key == 'result':\r\n",
        "            result.append(data_away[index][key])\r\n"
      ],
      "execution_count": 21,
      "outputs": []
    },
    {
      "cell_type": "code",
      "metadata": {
        "colab": {
          "base_uri": "https://localhost:8080/",
          "height": 1000
        },
        "id": "mS95Rx67_DJt",
        "outputId": "a6f8ff87-d5d0-4a3a-f739-24c595041c5a"
      },
      "source": [
        "col_names = ['x','y','xG','result','team']\r\n",
        "df = pd.DataFrame([x,y,xG,result,team],index=col_names)\r\n",
        "df = df.T\r\n",
        "df"
      ],
      "execution_count": 22,
      "outputs": [
        {
          "output_type": "execute_result",
          "data": {
            "text/html": [
              "<div>\n",
              "<style scoped>\n",
              "    .dataframe tbody tr th:only-of-type {\n",
              "        vertical-align: middle;\n",
              "    }\n",
              "\n",
              "    .dataframe tbody tr th {\n",
              "        vertical-align: top;\n",
              "    }\n",
              "\n",
              "    .dataframe thead th {\n",
              "        text-align: right;\n",
              "    }\n",
              "</style>\n",
              "<table border=\"1\" class=\"dataframe\">\n",
              "  <thead>\n",
              "    <tr style=\"text-align: right;\">\n",
              "      <th></th>\n",
              "      <th>x</th>\n",
              "      <th>y</th>\n",
              "      <th>xG</th>\n",
              "      <th>result</th>\n",
              "      <th>team</th>\n",
              "    </tr>\n",
              "  </thead>\n",
              "  <tbody>\n",
              "    <tr>\n",
              "      <th>0</th>\n",
              "      <td>0.749000015258789</td>\n",
              "      <td>0.40400001525878904</td>\n",
              "      <td>0.02078883908689022</td>\n",
              "      <td>BlockedShot</td>\n",
              "      <td>Wolverhampton Wanderers</td>\n",
              "    </tr>\n",
              "    <tr>\n",
              "      <th>1</th>\n",
              "      <td>0.75</td>\n",
              "      <td>0.265</td>\n",
              "      <td>0.01285276748239994</td>\n",
              "      <td>SavedShot</td>\n",
              "      <td>Wolverhampton Wanderers</td>\n",
              "    </tr>\n",
              "    <tr>\n",
              "      <th>2</th>\n",
              "      <td>0.7280000305175781</td>\n",
              "      <td>0.4520000076293945</td>\n",
              "      <td>0.016827892512083054</td>\n",
              "      <td>SavedShot</td>\n",
              "      <td>Wolverhampton Wanderers</td>\n",
              "    </tr>\n",
              "    <tr>\n",
              "      <th>3</th>\n",
              "      <td>0.7380000305175781</td>\n",
              "      <td>0.5029999923706054</td>\n",
              "      <td>0.019098620861768723</td>\n",
              "      <td>BlockedShot</td>\n",
              "      <td>Wolverhampton Wanderers</td>\n",
              "    </tr>\n",
              "    <tr>\n",
              "      <th>4</th>\n",
              "      <td>0.735</td>\n",
              "      <td>0.40799999237060547</td>\n",
              "      <td>0.01313160452991724</td>\n",
              "      <td>SavedShot</td>\n",
              "      <td>Wolverhampton Wanderers</td>\n",
              "    </tr>\n",
              "    <tr>\n",
              "      <th>5</th>\n",
              "      <td>0.7630000305175781</td>\n",
              "      <td>0.6859999847412109</td>\n",
              "      <td>0.014956190250813961</td>\n",
              "      <td>MissedShots</td>\n",
              "      <td>Wolverhampton Wanderers</td>\n",
              "    </tr>\n",
              "    <tr>\n",
              "      <th>6</th>\n",
              "      <td>0.91</td>\n",
              "      <td>0.375</td>\n",
              "      <td>0.1294642835855484</td>\n",
              "      <td>SavedShot</td>\n",
              "      <td>Wolverhampton Wanderers</td>\n",
              "    </tr>\n",
              "    <tr>\n",
              "      <th>7</th>\n",
              "      <td>0.7930000305175782</td>\n",
              "      <td>0.3609999847412109</td>\n",
              "      <td>0.055226195603609085</td>\n",
              "      <td>BlockedShot</td>\n",
              "      <td>Wolverhampton Wanderers</td>\n",
              "    </tr>\n",
              "    <tr>\n",
              "      <th>8</th>\n",
              "      <td>0.9569999694824218</td>\n",
              "      <td>0.31</td>\n",
              "      <td>0.053609706461429596</td>\n",
              "      <td>SavedShot</td>\n",
              "      <td>Wolverhampton Wanderers</td>\n",
              "    </tr>\n",
              "    <tr>\n",
              "      <th>9</th>\n",
              "      <td>0.6969999694824218</td>\n",
              "      <td>0.48400001525878905</td>\n",
              "      <td>0.012227309867739677</td>\n",
              "      <td>MissedShots</td>\n",
              "      <td>Wolverhampton Wanderers</td>\n",
              "    </tr>\n",
              "    <tr>\n",
              "      <th>10</th>\n",
              "      <td>0.855999984741211</td>\n",
              "      <td>0.325</td>\n",
              "      <td>0.04488198459148407</td>\n",
              "      <td>MissedShots</td>\n",
              "      <td>Wolverhampton Wanderers</td>\n",
              "    </tr>\n",
              "    <tr>\n",
              "      <th>11</th>\n",
              "      <td>0.7519999694824219</td>\n",
              "      <td>0.605</td>\n",
              "      <td>0.023560622707009315</td>\n",
              "      <td>ShotOnPost</td>\n",
              "      <td>Wolverhampton Wanderers</td>\n",
              "    </tr>\n",
              "    <tr>\n",
              "      <th>12</th>\n",
              "      <td>0.924000015258789</td>\n",
              "      <td>0.44799999237060545</td>\n",
              "      <td>0.08681493997573853</td>\n",
              "      <td>BlockedShot</td>\n",
              "      <td>Wolverhampton Wanderers</td>\n",
              "    </tr>\n",
              "    <tr>\n",
              "      <th>13</th>\n",
              "      <td>0.7830000305175782</td>\n",
              "      <td>0.44</td>\n",
              "      <td>0.03367955982685089</td>\n",
              "      <td>MissedShots</td>\n",
              "      <td>Wolverhampton Wanderers</td>\n",
              "    </tr>\n",
              "    <tr>\n",
              "      <th>14</th>\n",
              "      <td>0.8809999847412109</td>\n",
              "      <td>0.28700000762939454</td>\n",
              "      <td>0.0551791787147522</td>\n",
              "      <td>BlockedShot</td>\n",
              "      <td>Wolverhampton Wanderers</td>\n",
              "    </tr>\n",
              "    <tr>\n",
              "      <th>15</th>\n",
              "      <td>0.9180000305175782</td>\n",
              "      <td>0.33599998474121096</td>\n",
              "      <td>0.07657875120639801</td>\n",
              "      <td>BlockedShot</td>\n",
              "      <td>Leeds</td>\n",
              "    </tr>\n",
              "    <tr>\n",
              "      <th>16</th>\n",
              "      <td>0.764000015258789</td>\n",
              "      <td>0.3270000076293945</td>\n",
              "      <td>0.01584477350115776</td>\n",
              "      <td>SavedShot</td>\n",
              "      <td>Leeds</td>\n",
              "    </tr>\n",
              "    <tr>\n",
              "      <th>17</th>\n",
              "      <td>0.919000015258789</td>\n",
              "      <td>0.48700000762939455</td>\n",
              "      <td>0.3344014883041382</td>\n",
              "      <td>SavedShot</td>\n",
              "      <td>Leeds</td>\n",
              "    </tr>\n",
              "    <tr>\n",
              "      <th>18</th>\n",
              "      <td>0.9619999694824218</td>\n",
              "      <td>0.25799999237060545</td>\n",
              "      <td>0.023589136078953743</td>\n",
              "      <td>ShotOnPost</td>\n",
              "      <td>Leeds</td>\n",
              "    </tr>\n",
              "    <tr>\n",
              "      <th>19</th>\n",
              "      <td>0.8969999694824219</td>\n",
              "      <td>0.585</td>\n",
              "      <td>0.08791255950927734</td>\n",
              "      <td>SavedShot</td>\n",
              "      <td>Leeds</td>\n",
              "    </tr>\n",
              "    <tr>\n",
              "      <th>20</th>\n",
              "      <td>0.9459999847412109</td>\n",
              "      <td>0.664000015258789</td>\n",
              "      <td>0.05868424102663994</td>\n",
              "      <td>BlockedShot</td>\n",
              "      <td>Leeds</td>\n",
              "    </tr>\n",
              "    <tr>\n",
              "      <th>21</th>\n",
              "      <td>0.7480000305175781</td>\n",
              "      <td>0.75</td>\n",
              "      <td>0.012216409668326378</td>\n",
              "      <td>MissedShots</td>\n",
              "      <td>Leeds</td>\n",
              "    </tr>\n",
              "    <tr>\n",
              "      <th>22</th>\n",
              "      <td>0.9019999694824219</td>\n",
              "      <td>0.36400001525878906</td>\n",
              "      <td>0.07784339040517807</td>\n",
              "      <td>BlockedShot</td>\n",
              "      <td>Leeds</td>\n",
              "    </tr>\n",
              "    <tr>\n",
              "      <th>23</th>\n",
              "      <td>0.925</td>\n",
              "      <td>0.4929999923706055</td>\n",
              "      <td>0.11915230751037598</td>\n",
              "      <td>BlockedShot</td>\n",
              "      <td>Leeds</td>\n",
              "    </tr>\n",
              "    <tr>\n",
              "      <th>24</th>\n",
              "      <td>0.894000015258789</td>\n",
              "      <td>0.31799999237060544</td>\n",
              "      <td>0.03455323725938797</td>\n",
              "      <td>MissedShots</td>\n",
              "      <td>Leeds</td>\n",
              "    </tr>\n",
              "    <tr>\n",
              "      <th>25</th>\n",
              "      <td>0.8880000305175781</td>\n",
              "      <td>0.615</td>\n",
              "      <td>0.02508280798792839</td>\n",
              "      <td>SavedShot</td>\n",
              "      <td>Leeds</td>\n",
              "    </tr>\n",
              "    <tr>\n",
              "      <th>26</th>\n",
              "      <td>0.93</td>\n",
              "      <td>0.5020000076293946</td>\n",
              "      <td>0.40868714451789856</td>\n",
              "      <td>SavedShot</td>\n",
              "      <td>Leeds</td>\n",
              "    </tr>\n",
              "    <tr>\n",
              "      <th>27</th>\n",
              "      <td>0.9269999694824219</td>\n",
              "      <td>0.49</td>\n",
              "      <td>0.059934619814157486</td>\n",
              "      <td>BlockedShot</td>\n",
              "      <td>Leeds</td>\n",
              "    </tr>\n",
              "    <tr>\n",
              "      <th>28</th>\n",
              "      <td>0.01899999976158142</td>\n",
              "      <td>0.5259999847412109</td>\n",
              "      <td>0</td>\n",
              "      <td>OwnGoal</td>\n",
              "      <td>Leeds</td>\n",
              "    </tr>\n",
              "    <tr>\n",
              "      <th>29</th>\n",
              "      <td>0.9769999694824218</td>\n",
              "      <td>0.5540000152587891</td>\n",
              "      <td>0.598965048789978</td>\n",
              "      <td>SavedShot</td>\n",
              "      <td>Leeds</td>\n",
              "    </tr>\n",
              "    <tr>\n",
              "      <th>30</th>\n",
              "      <td>0.9209999847412109</td>\n",
              "      <td>0.48700000762939455</td>\n",
              "      <td>0.10257767140865326</td>\n",
              "      <td>MissedShots</td>\n",
              "      <td>Leeds</td>\n",
              "    </tr>\n",
              "    <tr>\n",
              "      <th>31</th>\n",
              "      <td>0.750999984741211</td>\n",
              "      <td>0.720999984741211</td>\n",
              "      <td>0.014800678007304668</td>\n",
              "      <td>BlockedShot</td>\n",
              "      <td>Leeds</td>\n",
              "    </tr>\n",
              "    <tr>\n",
              "      <th>32</th>\n",
              "      <td>0.885</td>\n",
              "      <td>0.5420000076293945</td>\n",
              "      <td>0.4075760841369629</td>\n",
              "      <td>SavedShot</td>\n",
              "      <td>Leeds</td>\n",
              "    </tr>\n",
              "    <tr>\n",
              "      <th>33</th>\n",
              "      <td>0.9269999694824219</td>\n",
              "      <td>0.44799999237060545</td>\n",
              "      <td>0.05388607829809189</td>\n",
              "      <td>MissedShots</td>\n",
              "      <td>Leeds</td>\n",
              "    </tr>\n",
              "  </tbody>\n",
              "</table>\n",
              "</div>"
            ],
            "text/plain": [
              "                      x  ...                     team\n",
              "0     0.749000015258789  ...  Wolverhampton Wanderers\n",
              "1                  0.75  ...  Wolverhampton Wanderers\n",
              "2    0.7280000305175781  ...  Wolverhampton Wanderers\n",
              "3    0.7380000305175781  ...  Wolverhampton Wanderers\n",
              "4                 0.735  ...  Wolverhampton Wanderers\n",
              "5    0.7630000305175781  ...  Wolverhampton Wanderers\n",
              "6                  0.91  ...  Wolverhampton Wanderers\n",
              "7    0.7930000305175782  ...  Wolverhampton Wanderers\n",
              "8    0.9569999694824218  ...  Wolverhampton Wanderers\n",
              "9    0.6969999694824218  ...  Wolverhampton Wanderers\n",
              "10    0.855999984741211  ...  Wolverhampton Wanderers\n",
              "11   0.7519999694824219  ...  Wolverhampton Wanderers\n",
              "12    0.924000015258789  ...  Wolverhampton Wanderers\n",
              "13   0.7830000305175782  ...  Wolverhampton Wanderers\n",
              "14   0.8809999847412109  ...  Wolverhampton Wanderers\n",
              "15   0.9180000305175782  ...                    Leeds\n",
              "16    0.764000015258789  ...                    Leeds\n",
              "17    0.919000015258789  ...                    Leeds\n",
              "18   0.9619999694824218  ...                    Leeds\n",
              "19   0.8969999694824219  ...                    Leeds\n",
              "20   0.9459999847412109  ...                    Leeds\n",
              "21   0.7480000305175781  ...                    Leeds\n",
              "22   0.9019999694824219  ...                    Leeds\n",
              "23                0.925  ...                    Leeds\n",
              "24    0.894000015258789  ...                    Leeds\n",
              "25   0.8880000305175781  ...                    Leeds\n",
              "26                 0.93  ...                    Leeds\n",
              "27   0.9269999694824219  ...                    Leeds\n",
              "28  0.01899999976158142  ...                    Leeds\n",
              "29   0.9769999694824218  ...                    Leeds\n",
              "30   0.9209999847412109  ...                    Leeds\n",
              "31    0.750999984741211  ...                    Leeds\n",
              "32                0.885  ...                    Leeds\n",
              "33   0.9269999694824219  ...                    Leeds\n",
              "\n",
              "[34 rows x 5 columns]"
            ]
          },
          "metadata": {
            "tags": []
          },
          "execution_count": 22
        }
      ]
    }
  ]
}